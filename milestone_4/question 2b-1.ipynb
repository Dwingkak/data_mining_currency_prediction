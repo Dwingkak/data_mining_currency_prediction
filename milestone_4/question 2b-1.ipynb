{
 "cells": [
  {
   "cell_type": "code",
   "execution_count": 3,
   "metadata": {},
   "outputs": [
    {
     "name": "stdout",
     "output_type": "stream",
     "text": [
      "d:\\Project\\urbanlytic 2019\n"
     ]
    }
   ],
   "source": [
    "%cd \"d:\\Project\\urbanlytic 2019\""
   ]
  },
  {
   "cell_type": "code",
   "execution_count": 2,
   "metadata": {},
   "outputs": [],
   "source": [
    "import numpy as np \n",
    "import pandas as pd \n",
    "import seaborn as sns\n",
    "import matplotlib.pyplot as plt\n",
    "import xgboost as xgb\n",
    "from xgboost import plot_importance, plot_tree\n",
    "from sklearn.metrics import mean_squared_error, mean_absolute_error"
   ]
  },
  {
   "cell_type": "code",
   "execution_count": 4,
   "metadata": {},
   "outputs": [],
   "source": [
    "from datetime import datetime\n",
    "\n",
    "air = pd.read_json(\"./dataset/air_sensor.json\")\n",
    "\n",
    "air[\"date_time\"] = pd.to_datetime(air[\"CreatedDateTime\"], unit = \"s\")\n",
    "air = air.set_index(\"date_time\")"
   ]
  },
  {
   "cell_type": "code",
   "execution_count": 9,
   "metadata": {},
   "outputs": [],
   "source": [
    "air = air.sort_index()"
   ]
  },
  {
   "cell_type": "code",
   "execution_count": 20,
   "metadata": {},
   "outputs": [],
   "source": [
    "air_pm25 = air[air[\"DisplayName\"] == \"pm25\"].copy()\n",
    "cols = list(air_pm25.columns)\n",
    "cols.pop(-2)\n",
    "cols\n",
    "air_pm25.drop(cols, axis = 1, inplace = True)"
   ]
  },
  {
   "cell_type": "code",
   "execution_count": 143,
   "metadata": {},
   "outputs": [],
   "source": [
    "# split training and test data\n",
    "\n",
    "split_date = \"2019-06-28\"\n",
    "air_pm25_train = air_pm25.loc[air_pm25.index <= split_date].copy()\n",
    "air_pm25_test = air_pm25.loc[air_pm25.index > split_date].copy()"
   ]
  },
  {
   "cell_type": "code",
   "execution_count": 144,
   "metadata": {},
   "outputs": [
    {
     "data": {
      "text/plain": [
       "<matplotlib.axes._subplots.AxesSubplot at 0x250b2fd23c8>"
      ]
     },
     "execution_count": 144,
     "metadata": {},
     "output_type": "execute_result"
    },
    {
     "data": {
      "image/png": "[encoded data removed]",
      "text/plain": [
       "<Figure size 432x288 with 1 Axes>"
      ]
     },
     "metadata": {
      "needs_background": "light"
     },
     "output_type": "display_data"
    }
   ],
   "source": [
    "air_pm25_test.rename(columns = {\"Value\": \"test\"}).join(air_pm25_train.rename(columns = {\"Value\": \"train\"}), how=\"outer\") \\\n",
    ".plot()"
   ]
  },
  {
   "cell_type": "code",
   "execution_count": 112,
   "metadata": {},
   "outputs": [],
   "source": [
    "def new_features(df, label = None):\n",
    "    df[\"date\"] = df.index\n",
    "    df[\"hour\"] = df[\"date\"].dt.hour\n",
    "    df[\"dayofweek\"] = df[\"date\"].dt.dayofweek\n",
    "    df[\"month\"] = df[\"date\"].dt.month\n",
    "    df[\"dayofyear\"] = df[\"date\"].dt.dayofyear\n",
    "    df[\"dayofmonth\"] = df[\"date\"].dt.day\n",
    "    \n",
    "    x = df[[\"hour\", \"dayofweek\", \"month\", \"dayofyear\", \"dayofmonth\"]]\n",
    "    \n",
    "    if label:\n",
    "        y = df[label]\n",
    "        return x, y\n",
    "    return x"
   ]
  },
  {
   "cell_type": "code",
   "execution_count": 145,
   "metadata": {},
   "outputs": [],
   "source": [
    "x_train, y_train = new_features(air_pm25_train, label = \"Value\")\n",
    "x_test, y_test = new_features(air_pm25_test, label = \"Value\")"
   ]
  },
  {
   "cell_type": "code",
   "execution_count": 146,
   "metadata": {},
   "outputs": [
    {
     "name": "stdout",
     "output_type": "stream",
     "text": [
      "[05:28:52] WARNING: src/objective/regression_obj.cu:152: reg:linear is now deprecated in favor of reg:squarederror.\n",
      "[0]\tvalidation_0-rmse:15.7233\tvalidation_1-rmse:19.9798\n",
      "Multiple eval metrics have been passed: 'validation_1-rmse' will be used for early stopping.\n",
      "\n",
      "Will train until validation_1-rmse hasn't improved in 50 rounds.\n",
      "[1]\tvalidation_0-rmse:14.4379\tvalidation_1-rmse:18.455\n",
      "[2]\tvalidation_0-rmse:13.2946\tvalidation_1-rmse:17.1559\n",
      "[3]\tvalidation_0-rmse:12.2889\tvalidation_1-rmse:15.9926\n",
      "[4]\tvalidation_0-rmse:11.3996\tvalidation_1-rmse:14.9129\n",
      "[5]\tvalidation_0-rmse:10.6087\tvalidation_1-rmse:14.0274\n",
      "[6]\tvalidation_0-rmse:9.93154\tvalidation_1-rmse:13.2193\n",
      "[7]\tvalidation_0-rmse:9.33099\tvalidation_1-rmse:12.4473\n",
      "[8]\tvalidation_0-rmse:8.80833\tvalidation_1-rmse:11.7477\n",
      "[9]\tvalidation_0-rmse:8.36157\tvalidation_1-rmse:11.468\n",
      "[10]\tvalidation_0-rmse:7.96362\tvalidation_1-rmse:10.8991\n",
      "[11]\tvalidation_0-rmse:7.61108\tvalidation_1-rmse:10.3471\n",
      "[12]\tvalidation_0-rmse:7.31767\tvalidation_1-rmse:9.94754\n",
      "[13]\tvalidation_0-rmse:7.06189\tvalidation_1-rmse:9.18127\n",
      "[14]\tvalidation_0-rmse:6.83378\tvalidation_1-rmse:8.77393\n",
      "[15]\tvalidation_0-rmse:6.63873\tvalidation_1-rmse:8.43496\n",
      "[16]\tvalidation_0-rmse:6.4723\tvalidation_1-rmse:7.85804\n",
      "[17]\tvalidation_0-rmse:6.33019\tvalidation_1-rmse:7.72375\n",
      "[18]\tvalidation_0-rmse:6.21147\tvalidation_1-rmse:7.17006\n",
      "[19]\tvalidation_0-rmse:6.1026\tvalidation_1-rmse:7.02072\n",
      "[20]\tvalidation_0-rmse:6.00483\tvalidation_1-rmse:6.90439\n",
      "[21]\tvalidation_0-rmse:5.92523\tvalidation_1-rmse:6.47342\n",
      "[22]\tvalidation_0-rmse:5.83784\tvalidation_1-rmse:6.3158\n",
      "[23]\tvalidation_0-rmse:5.76003\tvalidation_1-rmse:6.18222\n",
      "[24]\tvalidation_0-rmse:5.6946\tvalidation_1-rmse:5.94645\n",
      "[25]\tvalidation_0-rmse:5.6053\tvalidation_1-rmse:5.82034\n",
      "[26]\tvalidation_0-rmse:5.56543\tvalidation_1-rmse:5.55288\n",
      "[27]\tvalidation_0-rmse:5.52244\tvalidation_1-rmse:5.39289\n",
      "[28]\tvalidation_0-rmse:5.45514\tvalidation_1-rmse:5.27595\n",
      "[29]\tvalidation_0-rmse:5.40428\tvalidation_1-rmse:5.34261\n",
      "[30]\tvalidation_0-rmse:5.35823\tvalidation_1-rmse:5.28923\n",
      "[31]\tvalidation_0-rmse:5.32531\tvalidation_1-rmse:5.27277\n",
      "[32]\tvalidation_0-rmse:5.29481\tvalidation_1-rmse:5.124\n",
      "[33]\tvalidation_0-rmse:5.2487\tvalidation_1-rmse:5.09966\n",
      "[34]\tvalidation_0-rmse:5.2243\tvalidation_1-rmse:4.99775\n",
      "[35]\tvalidation_0-rmse:5.19885\tvalidation_1-rmse:4.99316\n",
      "[36]\tvalidation_0-rmse:5.16211\tvalidation_1-rmse:4.97739\n",
      "[37]\tvalidation_0-rmse:5.13282\tvalidation_1-rmse:5.02793\n",
      "[38]\tvalidation_0-rmse:5.11374\tvalidation_1-rmse:4.94568\n",
      "[39]\tvalidation_0-rmse:5.09385\tvalidation_1-rmse:4.94531\n",
      "[40]\tvalidation_0-rmse:5.06886\tvalidation_1-rmse:4.98413\n",
      "[41]\tvalidation_0-rmse:5.05344\tvalidation_1-rmse:4.91789\n",
      "[42]\tvalidation_0-rmse:5.03023\tvalidation_1-rmse:4.94271\n",
      "[43]\tvalidation_0-rmse:5.01429\tvalidation_1-rmse:4.89296\n",
      "[44]\tvalidation_0-rmse:4.99763\tvalidation_1-rmse:4.89507\n",
      "[45]\tvalidation_0-rmse:4.97644\tvalidation_1-rmse:4.89084\n",
      "[46]\tvalidation_0-rmse:4.93088\tvalidation_1-rmse:4.94285\n",
      "[47]\tvalidation_0-rmse:4.91998\tvalidation_1-rmse:4.90891\n",
      "[48]\tvalidation_0-rmse:4.90294\tvalidation_1-rmse:4.90951\n",
      "[49]\tvalidation_0-rmse:4.86584\tvalidation_1-rmse:4.9618\n",
      "[50]\tvalidation_0-rmse:4.84945\tvalidation_1-rmse:4.9661\n",
      "[51]\tvalidation_0-rmse:4.83896\tvalidation_1-rmse:4.94239\n",
      "[52]\tvalidation_0-rmse:4.80829\tvalidation_1-rmse:4.98474\n",
      "[53]\tvalidation_0-rmse:4.79533\tvalidation_1-rmse:4.97061\n",
      "[54]\tvalidation_0-rmse:4.78593\tvalidation_1-rmse:4.95417\n",
      "[55]\tvalidation_0-rmse:4.76045\tvalidation_1-rmse:4.93464\n",
      "[56]\tvalidation_0-rmse:4.74736\tvalidation_1-rmse:4.92797\n",
      "[57]\tvalidation_0-rmse:4.72617\tvalidation_1-rmse:4.93525\n",
      "[58]\tvalidation_0-rmse:4.70273\tvalidation_1-rmse:4.9282\n",
      "[59]\tvalidation_0-rmse:4.6905\tvalidation_1-rmse:4.93283\n",
      "[60]\tvalidation_0-rmse:4.67141\tvalidation_1-rmse:4.98001\n",
      "[61]\tvalidation_0-rmse:4.66344\tvalidation_1-rmse:4.96607\n",
      "[62]\tvalidation_0-rmse:4.65335\tvalidation_1-rmse:4.98001\n",
      "[63]\tvalidation_0-rmse:4.63578\tvalidation_1-rmse:4.94866\n",
      "[64]\tvalidation_0-rmse:4.62569\tvalidation_1-rmse:4.93848\n",
      "[65]\tvalidation_0-rmse:4.60797\tvalidation_1-rmse:4.94632\n",
      "[66]\tvalidation_0-rmse:4.60162\tvalidation_1-rmse:4.93349\n",
      "[67]\tvalidation_0-rmse:4.58763\tvalidation_1-rmse:4.94019\n",
      "[68]\tvalidation_0-rmse:4.52047\tvalidation_1-rmse:4.9519\n",
      "[69]\tvalidation_0-rmse:4.50641\tvalidation_1-rmse:4.99038\n",
      "[70]\tvalidation_0-rmse:4.5015\tvalidation_1-rmse:4.99638\n",
      "[71]\tvalidation_0-rmse:4.49535\tvalidation_1-rmse:5.02724\n",
      "[72]\tvalidation_0-rmse:4.48097\tvalidation_1-rmse:5.06639\n",
      "[73]\tvalidation_0-rmse:4.47349\tvalidation_1-rmse:5.05574\n",
      "[74]\tvalidation_0-rmse:4.46284\tvalidation_1-rmse:5.05858\n",
      "[75]\tvalidation_0-rmse:4.45097\tvalidation_1-rmse:5.08192\n",
      "[76]\tvalidation_0-rmse:4.447\tvalidation_1-rmse:5.06525\n",
      "[77]\tvalidation_0-rmse:4.39353\tvalidation_1-rmse:5.07153\n",
      "[78]\tvalidation_0-rmse:4.37245\tvalidation_1-rmse:5.07026\n",
      "[79]\tvalidation_0-rmse:4.36311\tvalidation_1-rmse:5.07086\n",
      "[80]\tvalidation_0-rmse:4.35053\tvalidation_1-rmse:5.06528\n",
      "[81]\tvalidation_0-rmse:4.3062\tvalidation_1-rmse:5.0709\n",
      "[82]\tvalidation_0-rmse:4.3019\tvalidation_1-rmse:5.05511\n",
      "[83]\tvalidation_0-rmse:4.29109\tvalidation_1-rmse:5.0524\n",
      "[84]\tvalidation_0-rmse:4.2544\tvalidation_1-rmse:5.05734\n",
      "[85]\tvalidation_0-rmse:4.25148\tvalidation_1-rmse:5.062\n",
      "[86]\tvalidation_0-rmse:4.24019\tvalidation_1-rmse:5.09325\n",
      "[87]\tvalidation_0-rmse:4.22101\tvalidation_1-rmse:5.09025\n",
      "[88]\tvalidation_0-rmse:4.2072\tvalidation_1-rmse:5.14967\n",
      "[89]\tvalidation_0-rmse:4.19963\tvalidation_1-rmse:5.14599\n",
      "[90]\tvalidation_0-rmse:4.18694\tvalidation_1-rmse:5.14265\n",
      "[91]\tvalidation_0-rmse:4.15628\tvalidation_1-rmse:5.14695\n",
      "[92]\tvalidation_0-rmse:4.15379\tvalidation_1-rmse:5.1359\n",
      "[93]\tvalidation_0-rmse:4.13682\tvalidation_1-rmse:5.13413\n",
      "[94]\tvalidation_0-rmse:4.1302\tvalidation_1-rmse:5.13422\n",
      "[95]\tvalidation_0-rmse:4.12075\tvalidation_1-rmse:5.1167\n",
      "Stopping. Best iteration:\n",
      "[45]\tvalidation_0-rmse:4.97644\tvalidation_1-rmse:4.89084\n",
      "\n"
     ]
    },
    {
     "data": {
      "text/plain": [
       "XGBRegressor(base_score=0.5, booster='gbtree', colsample_bylevel=1,\n",
       "             colsample_bynode=1, colsample_bytree=1, gamma=10,\n",
       "             importance_type='gain', learning_rate=0.1, max_delta_step=0,\n",
       "             max_depth=3, min_child_weight=1, missing=None, n_estimator=1000,\n",
       "             n_estimators=100, n_jobs=1, nthread=None, objective='reg:linear',\n",
       "             random_state=0, reg_alpha=0, reg_lambda=1, scale_pos_weight=1,\n",
       "             seed=None, silent=None, subsample=1, verbosity=1)"
      ]
     },
     "execution_count": 146,
     "metadata": {},
     "output_type": "execute_result"
    }
   ],
   "source": [
    "reg = xgb.XGBRegressor(n_estimator = 1000, max_depth=3, gamma = 10)\n",
    "reg.fit(x_train, y_train,\n",
    "       eval_set=[(x_train, y_train), (x_test, y_test)],\n",
    "       early_stopping_rounds = 50,\n",
    "       verbose = True)"
   ]
  },
  {
   "cell_type": "code",
   "execution_count": 128,
   "metadata": {},
   "outputs": [
    {
     "data": {
      "text/plain": [
       "<matplotlib.axes._subplots.AxesSubplot at 0x250b2f04e48>"
      ]
     },
     "execution_count": 128,
     "metadata": {},
     "output_type": "execute_result"
    },
    {
     "data": {
      "image/png": "[encoded data removed]",
      "text/plain": [
       "<Figure size 432x288 with 1 Axes>"
      ]
     },
     "metadata": {
      "needs_background": "light"
     },
     "output_type": "display_data"
    }
   ],
   "source": [
    "plot_importance(reg)"
   ]
  },
  {
   "cell_type": "code",
   "execution_count": 147,
   "metadata": {},
   "outputs": [],
   "source": [
    "air_pm25_test[\"prediction\"] = reg.predict(x_test)\n",
    "air_pm25_all = pd.concat([air_pm25_test, air_pm25_train], sort = False)"
   ]
  },
  {
   "cell_type": "code",
   "execution_count": 148,
   "metadata": {},
   "outputs": [
    {
     "data": {
      "text/plain": [
       "<matplotlib.axes._subplots.AxesSubplot at 0x250b301dd08>"
      ]
     },
     "execution_count": 148,
     "metadata": {},
     "output_type": "execute_result"
    },
    {
     "data": {
      "image/png": "[encoded data removed]",
      "text/plain": [
       "<Figure size 432x288 with 1 Axes>"
      ]
     },
     "metadata": {
      "needs_background": "light"
     },
     "output_type": "display_data"
    }
   ],
   "source": [
    "air_pm25_all[[\"Value\", \"prediction\"]].plot()"
   ]
  },
  {
   "cell_type": "code",
   "execution_count": 33,
   "metadata": {},
   "outputs": [],
   "source": [
    "def rmse(y_true, y_pred):\n",
    "    y_true, y_pred = np.array(y_true), np.array(y_pred)\n",
    "    return np.sqrt(np.mean(np.square(y_true - y_pred)))"
   ]
  },
  {
   "cell_type": "code",
   "execution_count": 149,
   "metadata": {},
   "outputs": [
    {
     "data": {
      "text/plain": [
       "4.89083662074091"
      ]
     },
     "execution_count": 149,
     "metadata": {},
     "output_type": "execute_result"
    }
   ],
   "source": [
    "rmse(air_pm25_test[\"Value\"], air_pm25_test[\"prediction\"])"
   ]
  },
  {
   "cell_type": "code",
   "execution_count": 160,
   "metadata": {},
   "outputs": [],
   "source": [
    "pred = pd.date_range(\"2019-07-01\", \"2019-07-08\", freq = \"H\")"
   ]
  },
  {
   "cell_type": "code",
   "execution_count": 163,
   "metadata": {},
   "outputs": [],
   "source": [
    "pred_df = pd.DataFrame(pred, columns = [\"date\"])\n",
    "pred_df[\"hour\"] = pred_df[\"date\"].dt.hour\n",
    "pred_df[\"dayofweek\"] = pred_df[\"date\"].dt.dayofweek\n",
    "pred_df[\"month\"] = pred_df[\"date\"].dt.month\n",
    "pred_df[\"dayofyear\"] = pred_df[\"date\"].dt.dayofyear\n",
    "pred_df[\"dayofmonth\"] = pred_df[\"date\"].dt.day\n",
    "pred_df = pred_df.set_index(\"date\")"
   ]
  },
  {
   "cell_type": "code",
   "execution_count": 141,
   "metadata": {},
   "outputs": [],
   "source": [
    "output = reg.predict(pred_df)"
   ]
  },
  {
   "cell_type": "code",
   "execution_count": 142,
   "metadata": {},
   "outputs": [],
   "source": [
    "d = pd.DataFrame({\"Value\":output[:-1]})\n",
    "d.to_csv(\"values.csv\")"
   ]
  },
  {
   "cell_type": "code",
   "execution_count": null,
   "metadata": {},
   "outputs": [],
   "source": []
  }
 ],
 "metadata": {
  "kernelspec": {
   "display_name": "Python 3",
   "language": "python",
   "name": "python3"
  },
  "language_info": {
   "codemirror_mode": {
    "name": "ipython",
    "version": 3
   },
   "file_extension": ".py",
   "mimetype": "text/x-python",
   "name": "python",
   "nbconvert_exporter": "python",
   "pygments_lexer": "ipython3",
   "version": "3.7.4"
  }
 },
 "nbformat": 4,
 "nbformat_minor": 2
}
